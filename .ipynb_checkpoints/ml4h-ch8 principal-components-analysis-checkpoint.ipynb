{
 "metadata": {
  "name": ""
 },
 "nbformat": 3,
 "nbformat_minor": 0,
 "worksheets": [
  {
   "cells": [
    {
     "cell_type": "code",
     "collapsed": false,
     "input": [
      "%pylab inline"
     ],
     "language": "python",
     "metadata": {},
     "outputs": [
      {
       "output_type": "stream",
       "stream": "stdout",
       "text": [
        "Populating the interactive namespace from numpy and matplotlib\n"
       ]
      }
     ],
     "prompt_number": 1
    },
    {
     "cell_type": "code",
     "collapsed": false,
     "input": [
      "import numpy as np\n",
      "from sklearn.decomposition import PCA\n",
      "from pandas import *\n",
      "import datetime as dt\n",
      "import statsmodels.api as sm"
     ],
     "language": "python",
     "metadata": {},
     "outputs": [],
     "prompt_number": 2
    },
    {
     "cell_type": "heading",
     "level": 1,
     "metadata": {},
     "source": [
      "Principal Components Analysis of a set of stocks"
     ]
    },
    {
     "cell_type": "code",
     "collapsed": false,
     "input": [
      "prices_long = read_csv('data_set/stock_prices.csv', index_col=[0,1], parse_dates=True, squeeze=True)\n",
      "dji_all = read_csv('data_set/DJI.csv', index_col=0, parse_dates=True, squeeze=True)\n",
      "print prices_long.head(5)\n",
      "print dji_all.head(5)"
     ],
     "language": "python",
     "metadata": {},
     "outputs": [
      {
       "output_type": "stream",
       "stream": "stdout",
       "text": [
        "                  Close\n",
        "Date       Stock       \n",
        "2011-05-25 DTE    51.12\n",
        "2011-05-24 DTE    51.51\n",
        "2011-05-23 DTE    51.47\n",
        "2011-05-20 DTE    51.90\n",
        "2011-05-19 DTE    51.91\n",
        "                Open      High       Low     Close      Volume  Adj Close\n",
        "Date                                                                     \n",
        "2011-05-25  12355.45  12462.28  12271.90  12394.66  4109670000   12394.66\n",
        "2011-05-24  12381.87  12465.80  12315.42  12356.21  3846250000   12356.21\n",
        "2011-05-23  12511.29  12511.29  12292.49  12381.26  3255580000   12381.26\n",
        "2011-05-20  12604.64  12630.11  12453.96  12512.04  4066020000   12512.04\n",
        "2011-05-19  12561.46  12673.78  12506.67  12605.32  3626110000   12605.32\n"
       ]
      }
     ],
     "prompt_number": 15
    },
    {
     "cell_type": "code",
     "collapsed": false,
     "input": [
      "prices = prices_long.unstack()\n",
      "print prices.head(5)"
     ],
     "language": "python",
     "metadata": {},
     "outputs": [
      {
       "output_type": "stream",
       "stream": "stdout",
       "text": [
        "            Close                                                        \\\n",
        "Stock         ADC    AFL  ARKR   AZPN  CLFD    DDR    DTE   ENDP   FLWS   \n",
        "Date                                                                      \n",
        "2002-01-02  17.70  23.78  8.15  17.10  3.19  18.80  42.37  11.54  15.77   \n",
        "2002-01-03  16.14  23.52  8.15  17.41  3.27  18.55  42.14  11.48  17.40   \n",
        "2002-01-04  15.45  23.92  7.79  17.90  3.28  18.46  41.79  11.60  17.11   \n",
        "2002-01-07  16.59  23.12  7.79  17.49  3.50  18.30  41.48  11.90  17.38   \n",
        "2002-01-08  16.76  25.54  7.35  17.89  4.24  18.57  40.69  12.41  14.62   \n",
        "\n",
        "                   ...                                                         \\\n",
        "Stock          FR  ...      KSS   MTSC    NWN   ODFL  PARL  RELV  SIGM    STT   \n",
        "Date               ...                                                          \n",
        "2002-01-02  31.16  ...    70.23  10.03  26.20  13.40  1.92  1.30  1.75  52.11   \n",
        "2002-01-03  31.45  ...    69.65  10.85  26.25  13.00  1.94  1.22  2.11  52.90   \n",
        "2002-01-04  31.46  ...    70.21  10.34  26.46  13.00  1.98  1.26  2.20  54.16   \n",
        "2002-01-07  31.10  ...    70.17   9.99  26.84  13.32  1.94  1.28  2.11  55.14   \n",
        "2002-01-08  31.40  ...    69.90  10.35  27.35  13.75  1.94  1.27  2.25  54.44   \n",
        "\n",
        "                         \n",
        "Stock       TRIB    UTR  \n",
        "Date                     \n",
        "2002-01-02  1.50  39.34  \n",
        "2002-01-03  1.55  39.49  \n",
        "2002-01-04  1.54  39.38  \n",
        "2002-01-07  1.55  38.55  \n",
        "2002-01-08  1.58  38.98  \n",
        "\n",
        "[5 rows x 25 columns]\n"
       ]
      }
     ],
     "prompt_number": 16
    },
    {
     "cell_type": "code",
     "collapsed": false,
     "input": [],
     "language": "python",
     "metadata": {},
     "outputs": []
    }
   ],
   "metadata": {}
  }
 ]
}