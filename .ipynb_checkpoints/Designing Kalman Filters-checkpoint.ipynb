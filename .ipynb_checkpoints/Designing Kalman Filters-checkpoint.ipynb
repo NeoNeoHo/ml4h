{
 "metadata": {
  "name": ""
 },
 "nbformat": 3,
 "nbformat_minor": 0,
 "worksheets": [
  {
   "cells": [
    {
     "cell_type": "heading",
     "level": 1,
     "metadata": {},
     "source": [
      "Kalman Filter: "
     ]
    },
    {
     "cell_type": "markdown",
     "metadata": {},
     "source": [
      "http://rlabbe.github.io/Kalman-and-Bayesian-Filters-in-Python/"
     ]
    },
    {
     "cell_type": "code",
     "collapsed": false,
     "input": [
      "%matplotlib inline\n",
      "import matplotlib.pyplot as plt"
     ],
     "language": "python",
     "metadata": {},
     "outputs": [],
     "prompt_number": 1
    },
    {
     "cell_type": "code",
     "collapsed": false,
     "input": [
      "import numpy as np\n",
      "from numpy import dot\n",
      "x = np.array([[1, 2], [3, 4]], dtype=float)\n",
      "print x"
     ],
     "language": "python",
     "metadata": {},
     "outputs": [
      {
       "output_type": "stream",
       "stream": "stdout",
       "text": [
        "[[ 1.  2.]\n",
        " [ 3.  4.]]\n"
       ]
      }
     ],
     "prompt_number": 22
    },
    {
     "cell_type": "code",
     "collapsed": false,
     "input": [
      "print dot(x,x)"
     ],
     "language": "python",
     "metadata": {},
     "outputs": [
      {
       "output_type": "stream",
       "stream": "stdout",
       "text": [
        "[[  7.  10.]\n",
        " [ 15.  22.]]\n"
       ]
      }
     ],
     "prompt_number": 23
    },
    {
     "cell_type": "code",
     "collapsed": false,
     "input": [
      "print np.linalg.inv(x)\n",
      "print x.dot(np.linalg.inv(x))"
     ],
     "language": "python",
     "metadata": {},
     "outputs": [
      {
       "output_type": "stream",
       "stream": "stdout",
       "text": [
        "[[-2.   1. ]\n",
        " [ 1.5 -0.5]]\n",
        "[[  1.00000000e+00   1.11022302e-16]\n",
        " [  0.00000000e+00   1.00000000e+00]]\n"
       ]
      }
     ],
     "prompt_number": 24
    },
    {
     "cell_type": "code",
     "collapsed": false,
     "input": [
      "print np.zeros((2,3))\n",
      "print np.eye(3)"
     ],
     "language": "python",
     "metadata": {},
     "outputs": [
      {
       "output_type": "stream",
       "stream": "stdout",
       "text": [
        "[[ 0.  0.  0.]\n",
        " [ 0.  0.  0.]]\n",
        "[[ 1.  0.  0.]\n",
        " [ 0.  1.  0.]\n",
        " [ 0.  0.  1.]]\n"
       ]
      }
     ],
     "prompt_number": 25
    },
    {
     "cell_type": "code",
     "collapsed": false,
     "input": [
      "from filterpy.kalman import KalmanFilter\n",
      "from filterpy.common import Q_discrete_white_noise\n",
      "# help(Q_discrete_white_noise)"
     ],
     "language": "python",
     "metadata": {},
     "outputs": [],
     "prompt_number": 29
    },
    {
     "cell_type": "code",
     "collapsed": false,
     "input": [
      "Q = Q_discrete_white_noise(dim=2, dt=0.1, var=2.35)\n",
      "print Q"
     ],
     "language": "python",
     "metadata": {},
     "outputs": [
      {
       "output_type": "stream",
       "stream": "stdout",
       "text": [
        "[[  5.87500000e-05   1.17500000e-03]\n",
        " [  1.17500000e-03   2.35000000e-02]]\n"
       ]
      }
     ],
     "prompt_number": 28
    },
    {
     "cell_type": "code",
     "collapsed": false,
     "input": [
      "def dog_tracking_filter(R, Q=0, cov=1.):\n",
      "    dog_filter = KalmanFilter(dim_x=2, dim_z=1)\n",
      "    dog_filter.x = np.array([0., 0.])\n",
      "    dog_filter.F = np.array([[1, 1], [0, 1]])\n",
      "    dog_filter.H = np.array([[1, 0]])\n",
      "    dog_filter.R *= R\n",
      "    dog_filter.P *= cov\n",
      "    if np.isscalar(Q):\n",
      "        dog_filter.Q = Q_discrete_white_noise(dim=2, dt=0.1, var=Q)\n",
      "    else:\n",
      "        dog_filter.Q = Q\n",
      "    return dog_filter"
     ],
     "language": "python",
     "metadata": {},
     "outputs": [],
     "prompt_number": 34
    },
    {
     "cell_type": "code",
     "collapsed": false,
     "input": [
      "class DogSensor(object):\n",
      "    \n",
      "    def __init__(self, x0=0, velocity=1, variance=0.0):\n",
      "        \"\"\" x0 - initial position\n",
      "            velocity - (+=right, -=left)\n",
      "            variance - variance in measurement\n",
      "        \"\"\"\n",
      "        self.x = x0\n",
      "        self.velocity = velocity\n",
      "        self.noise = math.sqrt(variance)\n",
      "\n",
      "    def sense_position(self):\n",
      "        self.x = self.x + self.velocity\n",
      "        return self.x + random.randn() * self.noise"
     ],
     "language": "python",
     "metadata": {},
     "outputs": [],
     "prompt_number": 35
    },
    {
     "cell_type": "code",
     "collapsed": false,
     "input": [
      "def filter_dog(noise_var=0, count=0, R=0, Q=0, P=500., data=None, initial_x=None):"
     ],
     "language": "python",
     "metadata": {},
     "outputs": []
    }
   ],
   "metadata": {}
  }
 ]
}