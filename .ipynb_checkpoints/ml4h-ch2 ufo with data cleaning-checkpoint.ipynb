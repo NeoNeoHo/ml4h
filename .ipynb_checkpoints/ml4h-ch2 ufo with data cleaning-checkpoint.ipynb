{
 "metadata": {
  "name": ""
 },
 "nbformat": 3,
 "nbformat_minor": 0,
 "worksheets": [
  {
   "cells": [
    {
     "cell_type": "code",
     "collapsed": false,
     "input": [
      "import numpy as np\n",
      "from pandas import *\n",
      "import matplotlib.pyplot as plt\n",
      "import datetime as dt\n",
      "import time\n",
      "%matplotlib inline"
     ],
     "language": "python",
     "metadata": {},
     "outputs": [],
     "prompt_number": 47
    },
    {
     "cell_type": "code",
     "collapsed": false,
     "input": [
      "inpath = 'data_set/ufo_awesome.tsv'\n",
      "outpath = 'data_set/ufo_awesome_6col.tsv'"
     ],
     "language": "python",
     "metadata": {},
     "outputs": [],
     "prompt_number": 26
    },
    {
     "cell_type": "code",
     "collapsed": false,
     "input": [
      "inf = open(inpath, 'r')\n",
      "for i, line in enumerate(inf):\n",
      "    splitline = line.split('\\t')\n",
      "    if len(splitline) != 6:\n",
      "        first_bad_line = splitline\n",
      "        print \"First bad row:\",  i\n",
      "        for j, col in enumerate(first_bad_line):\n",
      "            print j, col\n",
      "        break\n",
      "inf.close()"
     ],
     "language": "python",
     "metadata": {},
     "outputs": [
      {
       "output_type": "stream",
       "stream": "stdout",
       "text": [
        "First bad row: 754\n",
        "0 19950704\n",
        "1 19950706\n",
        "2  Orlando, FL\n",
        "3 \n",
        "4 4-5 min\n",
        "5 I would like to report three yellow oval lights which passed over Orlando,Florida on July 4, 1995 at aproximately 21:30 (9:30 pm). These were the sizeof Venus (which they passed close by). Two of them traveled one after the otherat exactly the same speed and path heading south-southeast. The third oneappeared about a minute later following the same path as the other two. Thewhole sighting lasted about 4-5 minutes. There were 4 other witnesses oldenough to report the sighting. My 4 year old and 5 year old children were theones who called my attention to the &quot;moving stars&quot;. These objects moved fasterthan an airplane and did not resemble an aircraft, and were moving much slowerthan a shooting star. As for them being fireworks, their path was too regularand coordinated. If anybody else saw this phenomenon, please contact me at:\n",
        "6 ler@gnv.ifas.ufl.edu\n",
        "\n"
       ]
      }
     ],
     "prompt_number": 27
    },
    {
     "cell_type": "code",
     "collapsed": false,
     "input": [
      "def ufotab_to_sixcols(inpath, outpath):\n",
      "    inf = open(inpath, 'r')\n",
      "    outf = open(outpath, 'w')\n",
      "    \n",
      "    for line in inf:\n",
      "        splitline = line.split('\\t')\n",
      "        if len(splitline) < 6:\n",
      "            continue\n",
      "        \n",
      "        newline = ('\\t').join(splitline[:6])\n",
      "        if newline[-1:] != '\\n':\n",
      "            newline += '\\n'\n",
      "        outf.write(newline)\n",
      "    inf.close()\n",
      "    outf.close()"
     ],
     "language": "python",
     "metadata": {},
     "outputs": [],
     "prompt_number": 28
    },
    {
     "cell_type": "code",
     "collapsed": false,
     "input": [
      "ufotab_to_sixcols(inpath, outpath)"
     ],
     "language": "python",
     "metadata": {},
     "outputs": [],
     "prompt_number": 29
    },
    {
     "cell_type": "code",
     "collapsed": false,
     "input": [
      "ufo = read_table(outpath, sep='\\t', na_values='', header=None, \n",
      "                 names=['date_occurred', \n",
      "                        'date_reported', \n",
      "                        'location', \n",
      "                        'short_desc', \n",
      "                        'duration', \n",
      "                        'long_desc'])"
     ],
     "language": "python",
     "metadata": {},
     "outputs": [],
     "prompt_number": 30
    },
    {
     "cell_type": "code",
     "collapsed": false,
     "input": [
      "print ufo.tail(20).to_string(formatters={'long_desc': lambda x: x[:21]})"
     ],
     "language": "python",
     "metadata": {},
     "outputs": [
      {
       "output_type": "stream",
       "stream": "stdout",
       "text": [
        "       date_occurred  date_reported                        location short_desc           duration              long_desc\n",
        "61371       20100829       20100829                    Bellevue, WA      flash    over 20 minutes  Bright flashing light\n",
        "61372       20100819       20100819                Laguna Beach, CA   fireball          3 seconds  Bright massive object\n",
        "61373       20100812       20100813                  Montgomery, AL    unknown         One minute  High, fast, zig-zag/w\n",
        "61374       20100827       20100827   Craig (Coffman Cove Road), AK     circle              3 min  big green light in th\n",
        "61375       20100808       20100808                     Anaheim, CA      cross         23 minutes  Cross-like UFO off 91\n",
        "61376       20100812       20100812           Ingonish (Canada), NS      light           60 mins.  As you may know on Au\n",
        "61377       20091231       20100810                     Slidell, LA     sphere            3 mins.  Two lighted transluce\n",
        "61378       20100814       20100814                       Ocala, FL      light          2 seconds  I seen a blunt horizo\n",
        "61379       20100811       20100812                     Medford, OR   triangle         15 minutes  looking North we saw \n",
        "61380       20100815       20100817                 Weaverville, CA   fireball      about an hour  orange ball of light \n",
        "61381       20100807       20100810            St. Clair Shores, MI    unknown           1 minute  Orange-yellow light a\n",
        "61382       20100826       20100826               Downers Grove, IL      light          2 minutes  Two bright lights in \n",
        "61383       20100701       20100828                Blue Springs, MO      light         15 seconds  MISSOURI INVESTIGATOR\n",
        "61384       20100828       20100827                       Mason, OH       disk              30min  i was looking up at t\n",
        "61385       20100828       20100828                 Los Angeles, CA       disk         40 seconds  We were heading to ge\n",
        "61386       20090424       20100820                    Hartwell, GA       oval             10 min  never seen anything l\n",
        "61387       20100821       20100826             Franklin Square, NY   fireball         20 minutes  multiple fireballs in\n",
        "61388       20100827       20100827                    Brighton, CO     circle     at lest 45 min  Very bright flashing \n",
        "61389       20100818       20100821             Dryden (Canada), ON      other  5 Min. maybe more  Long steal pipe shape\n",
        "61390       20050502       20100824                   Fort Knox, KY   triangle         15 seconds  Flash of light made m\n"
       ]
      }
     ],
     "prompt_number": 31
    },
    {
     "cell_type": "heading",
     "level": 3,
     "metadata": {},
     "source": [
      "Use datetime to convert text date to datetime date"
     ]
    },
    {
     "cell_type": "code",
     "collapsed": false,
     "input": [
      "def ymd_convert(x):\n",
      "    try:\n",
      "        cnv_dt = dt.datetime.strptime(str(x), '%Y%m%d')\n",
      "    except ValueError:\n",
      "        cnv_dt = np.nan\n",
      "    return cnv_dt\n",
      "\n",
      "ufo['date_occurred'] = ufo['date_occurred'].apply(ymd_convert)\n",
      "ufo['date_reported'] = ufo['date_reported'].apply(ymd_convert)\n",
      "print ufo.head(5)"
     ],
     "language": "python",
     "metadata": {},
     "outputs": [
      {
       "output_type": "stream",
       "stream": "stdout",
       "text": [
        "         date_occurred date_reported        location short_desc duration  \\\n",
        "0  1995-10-09 00:00:00    1995-10-09   Iowa City, IA        NaN      NaN   \n",
        "1  1995-10-10 00:00:00    1995-10-11   Milwaukee, WI        NaN   2 min.   \n",
        "2  1995-01-01 00:00:00    1995-01-03     Shelton, WA        NaN      NaN   \n",
        "3  1995-05-10 00:00:00    1995-05-10    Columbia, MO        NaN   2 min.   \n",
        "4  1995-06-11 00:00:00    1995-06-14     Seattle, WA        NaN      NaN   \n",
        "\n",
        "                                           long_desc  \n",
        "0  Man repts. witnessing &quot;flash, followed by...  \n",
        "1  Man  on Hwy 43 SW of Milwaukee sees large, bri...  \n",
        "2  Telephoned Report:CA woman visiting daughter w...  \n",
        "3  Man repts. son&apos;s bizarre sighting of smal...  \n",
        "4  Anonymous caller repts. sighting 4 ufo&apos;s ...  \n"
       ]
      }
     ],
     "prompt_number": 32
    },
    {
     "cell_type": "code",
     "collapsed": false,
     "input": [
      "ufo.dropna(subset=['date_occurred', 'date_reported'], inplace=True)"
     ],
     "language": "python",
     "metadata": {},
     "outputs": [],
     "prompt_number": 33
    },
    {
     "cell_type": "code",
     "collapsed": false,
     "input": [
      "def get_location(x):\n",
      "    split_location = x.split(',')\n",
      "    clean_location = [y.strip() for y in split_location]\n",
      "    if len(split_location) != 2:\n",
      "        clean_location = ['', '']\n",
      "    return clean_location"
     ],
     "language": "python",
     "metadata": {},
     "outputs": [],
     "prompt_number": 34
    },
    {
     "cell_type": "heading",
     "level": 3,
     "metadata": {},
     "source": [
      "Use regular expression to decompose and filter out key words"
     ]
    },
    {
     "cell_type": "code",
     "collapsed": false,
     "input": [
      "import re\n",
      "us_state_pattern = re.compile(', [A-Z][A-Z]$', re.IGNORECASE)"
     ],
     "language": "python",
     "metadata": {},
     "outputs": [],
     "prompt_number": 35
    },
    {
     "cell_type": "code",
     "collapsed": false,
     "input": [
      "def get_location2(x):\n",
      "    strip_location = x.strip()\n",
      "    us_state_search = us_state_pattern.search(strip_location)\n",
      "    if us_state_search == None:\n",
      "        clean_location = ['', '']\n",
      "    else:\n",
      "        us_city = strip_location[:us_state_search.start()]\n",
      "        us_state = strip_location[us_state_search.start()+2:]\n",
      "        clean_location = [us_city, us_state]\n",
      "    return clean_location"
     ],
     "language": "python",
     "metadata": {},
     "outputs": [],
     "prompt_number": 36
    },
    {
     "cell_type": "code",
     "collapsed": false,
     "input": [
      "clean_location = ufo['location'].map(get_location2)\n",
      "ufo['us_city'] = [city for city, st in clean_location]\n",
      "ufo['us_state'] = [st.lower() for city, st in clean_location]"
     ],
     "language": "python",
     "metadata": {},
     "outputs": [],
     "prompt_number": 37
    },
    {
     "cell_type": "code",
     "collapsed": false,
     "input": [
      "us_states = ['ak', 'al', 'ar', 'az', 'ca', 'co', 'ct', 'dc', 'de', 'fl',\n",
      "             'ga', 'hi', 'ia', 'id', 'il', 'in', 'ks', 'ky', 'la', 'ma',\n",
      "             'md', 'me', 'mi', 'mn', 'mo', 'ms', 'mt', 'nc', 'nd', 'ne',\n",
      "             'nh', 'nj', 'nm', 'nv', 'ny', 'oh', 'ok', 'or', 'pa', 'ri',\n",
      "             'sc', 'sd', 'tn', 'tx', 'ut', 'va', 'vt', 'wa', 'wi', 'wv',\n",
      "             'wy']"
     ],
     "language": "python",
     "metadata": {},
     "outputs": [],
     "prompt_number": 38
    },
    {
     "cell_type": "heading",
     "level": 3,
     "metadata": {},
     "source": [
      "Use np.in1d to compare between two string array"
     ]
    },
    {
     "cell_type": "code",
     "collapsed": false,
     "input": [
      "ufo['us_state'][-np.in1d(ufo.us_state.tolist(), us_states)] = ''\n",
      "ufo['us_city'][-np.in1d(ufo.us_state.tolist(), us_states)] = ''"
     ],
     "language": "python",
     "metadata": {},
     "outputs": [],
     "prompt_number": 39
    },
    {
     "cell_type": "code",
     "collapsed": false,
     "input": [
      "ufo_us = ufo[ufo['us_state'] != '']"
     ],
     "language": "python",
     "metadata": {},
     "outputs": [],
     "prompt_number": 40
    },
    {
     "cell_type": "code",
     "collapsed": false,
     "input": [
      "years = ufo_us.date_occurred.map(lambda x: x.year)\n",
      "years.describe()"
     ],
     "language": "python",
     "metadata": {},
     "outputs": [
      {
       "metadata": {},
       "output_type": "pyout",
       "prompt_number": 41,
       "text": [
        "count    52134.000000\n",
        "mean      2000.572237\n",
        "std         10.889045\n",
        "min       1400.000000\n",
        "25%       1999.000000\n",
        "50%       2003.000000\n",
        "75%       2007.000000\n",
        "max       2010.000000\n",
        "dtype: float64"
       ]
      }
     ],
     "prompt_number": 41
    },
    {
     "cell_type": "code",
     "collapsed": false,
     "input": [
      "plt.figure()\n",
      "years.hist(bins=30, fc='steelblue')"
     ],
     "language": "python",
     "metadata": {},
     "outputs": [
      {
       "metadata": {},
       "output_type": "pyout",
       "prompt_number": 49,
       "text": [
        "<matplotlib.axes.AxesSubplot at 0x7feb46bb9650>"
       ]
      },
      {
       "metadata": {},
       "output_type": "display_data",
       "png": "[encoded data removed]",
       "text": [
        "<matplotlib.figure.Figure at 0x7feb46b9f150>"
       ]
      }
     ],
     "prompt_number": 49
    },
    {
     "cell_type": "code",
     "collapsed": false,
     "input": [
      "ufo_us = ufo_us[ufo_us.date_occurred > dt.datetime(1990,1,1)]\n",
      "years_post90 = ufo_us.date_occurred.map(lambda x: x.day)\n",
      "years_post90.hist(bins = 31, fc='steelblue')"
     ],
     "language": "python",
     "metadata": {},
     "outputs": [
      {
       "metadata": {},
       "output_type": "pyout",
       "prompt_number": 61,
       "text": [
        "<matplotlib.axes.AxesSubplot at 0x7feb3c04af10>"
       ]
      },
      {
       "metadata": {},
       "output_type": "display_data",
       "png": "[encoded data removed]",
       "text": [
        "<matplotlib.figure.Figure at 0x7feb3c052e10>"
       ]
      }
     ],
     "prompt_number": 61
    },
    {
     "cell_type": "code",
     "collapsed": false,
     "input": [
      "post90_count = ufo_us.groupby('date_occurred')['date_occurred'].count()\n",
      "post90_count.plot()"
     ],
     "language": "python",
     "metadata": {},
     "outputs": [
      {
       "metadata": {},
       "output_type": "pyout",
       "prompt_number": 62,
       "text": [
        "<matplotlib.axes.AxesSubplot at 0x7feb37fe87d0>"
       ]
      },
      {
       "metadata": {},
       "output_type": "display_data",
       "png": "[encoded data removed]",
       "text": [
        "<matplotlib.figure.Figure at 0x7feb37ff1090>"
       ]
      }
     ],
     "prompt_number": 62
    },
    {
     "cell_type": "code",
     "collapsed": false,
     "input": [
      "ufo_us['year_month'] = ufo_us.date_occurred.map(lambda x: dt.date(x.year, x.month, 1))\n",
      "sightings_count = ufo_us.groupby(['us_state', 'year_month'])['year_month'].count()\n",
      "print sightings_count.ix['ak'].tail(5)"
     ],
     "language": "python",
     "metadata": {},
     "outputs": [
      {
       "output_type": "stream",
       "stream": "stdout",
       "text": [
        "year_month\n",
        "2009-12-01    3\n",
        "2010-01-01    3\n",
        "2010-05-01    1\n",
        "2010-06-01    1\n",
        "2010-08-01    2\n",
        "Name: year_month, dtype: int64\n"
       ]
      }
     ],
     "prompt_number": 68
    },
    {
     "cell_type": "code",
     "collapsed": false,
     "input": [
      "sightings_all = sightings_count.unstack('year_month').fillna(0).stack('year_month')\n",
      "print sightings_all.tail(10)"
     ],
     "language": "python",
     "metadata": {},
     "outputs": [
      {
       "output_type": "stream",
       "stream": "stdout",
       "text": [
        "us_state  year_month\n",
        "wy        2009-11-01    0\n",
        "          2009-12-01    0\n",
        "          2010-01-01    0\n",
        "          2010-02-01    0\n",
        "          2010-03-01    0\n",
        "          2010-04-01    4\n",
        "          2010-05-01    0\n",
        "          2010-06-01    1\n",
        "          2010-07-01    1\n",
        "          2010-08-01    2\n",
        "dtype: float64\n"
       ]
      }
     ],
     "prompt_number": 77
    },
    {
     "cell_type": "code",
     "collapsed": false,
     "input": [
      "sightings_all.ix['ny'].plot()"
     ],
     "language": "python",
     "metadata": {},
     "outputs": [
      {
       "metadata": {},
       "output_type": "pyout",
       "prompt_number": 80,
       "text": [
        "<matplotlib.axes.AxesSubplot at 0x7feb37614910>"
       ]
      },
      {
       "metadata": {},
       "output_type": "display_data",
       "png": "[encoded data removed]",
       "text": [
        "<matplotlib.figure.Figure at 0x7feb3785c310>"
       ]
      }
     ],
     "prompt_number": 80
    },
    {
     "cell_type": "code",
     "collapsed": false,
     "input": [],
     "language": "python",
     "metadata": {},
     "outputs": []
    }
   ],
   "metadata": {}
  }
 ]
}