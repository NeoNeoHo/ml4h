{
 "metadata": {
  "name": "",
  "signature": "sha256:58161f7be1cd6a0efdfd39ebf43fece566b4e4d5f14b3d945995182b7d27ebb3"
 },
 "nbformat": 3,
 "nbformat_minor": 0,
 "worksheets": [
  {
   "cells": [
    {
     "cell_type": "heading",
     "level": 1,
     "metadata": {},
     "source": [
      "Chapter 1 P-1 UFO Data Cleaning"
     ]
    },
    {
     "cell_type": "code",
     "collapsed": false,
     "input": [
      "import pandas as pd\n",
      "import pandas.tools.rplot as rplot\n",
      "import datetime as dt\n",
      "import numpy as np\n",
      "import regex as re\n",
      "import matplotlib.pyplot as plt\n",
      "%matplotlib inline  "
     ],
     "language": "python",
     "metadata": {},
     "outputs": [],
     "prompt_number": 1
    },
    {
     "cell_type": "code",
     "collapsed": false,
     "input": [
      "inpath = 'data_set/ufo_awesome.tsv.txt'\n",
      "inf = open(inpath, 'r')"
     ],
     "language": "python",
     "metadata": {},
     "outputs": [],
     "prompt_number": 2
    },
    {
     "cell_type": "code",
     "collapsed": false,
     "input": [
      "inf = open(inpath, 'r')\n",
      "for i, line in enumerate(inf):\n",
      "    splitline = line.split('\\t')\n",
      "    if len(splitline) != 6:\n",
      "        first_bad_line = splitline\n",
      "        print \"First bad row:\", i\n",
      "        for j, col in enumerate(first_bad_line):\n",
      "            print j, col\n",
      "        break\n",
      "inf.close()"
     ],
     "language": "python",
     "metadata": {},
     "outputs": [
      {
       "output_type": "stream",
       "stream": "stdout",
       "text": [
        "First bad row: 754\n",
        "0 19950704\n",
        "1 19950706\n",
        "2  Orlando, FL\n",
        "3 \n",
        "4 4-5 min\n",
        "5 I would like to report three yellow oval lights which passed over Orlando,Florida on July 4, 1995 at aproximately 21:30 (9:30 pm). These were the sizeof Venus (which they passed close by). Two of them traveled one after the otherat exactly the same speed and path heading south-southeast. The third oneappeared about a minute later following the same path as the other two. Thewhole sighting lasted about 4-5 minutes. There were 4 other witnesses oldenough to report the sighting. My 4 year old and 5 year old children were theones who called my attention to the &quot;moving stars&quot;. These objects moved fasterthan an airplane and did not resemble an aircraft, and were moving much slowerthan a shooting star. As for them being fireworks, their path was too regularand coordinated. If anybody else saw this phenomenon, please contact me at:\n",
        "6 ler@gnv.ifas.ufl.edu\n",
        "\n"
       ]
      }
     ],
     "prompt_number": 3
    },
    {
     "cell_type": "code",
     "collapsed": false,
     "input": [
      "def ufotab_to_sixcols(inpath, outpath):\n",
      "    inf = open(inpath, 'r')\n",
      "    outf = open(outpath, 'w')\n",
      "    \n",
      "    for line in inf:\n",
      "        splitline = line.split('\\t')\n",
      "        if len(splitline) < 6:\n",
      "            continue\n",
      "        newline = ('\\t').join(splitline[:6])\n",
      "        if newline[-1:] != '\\n':\n",
      "            newline += '\\n'\n",
      "        outf.write(newline)\n",
      "    \n",
      "    inf.close()\n",
      "    outf.close()"
     ],
     "language": "python",
     "metadata": {},
     "outputs": [],
     "prompt_number": 4
    },
    {
     "cell_type": "code",
     "collapsed": false,
     "input": [
      "inpath = 'data_set/ufo_awesome.tsv.txt'\n",
      "outpath = 'data_set/ufo_clean.tsv.txt'\n",
      "ufotab_to_sixcols(inpath, outpath)"
     ],
     "language": "python",
     "metadata": {},
     "outputs": [],
     "prompt_number": 5
    },
    {
     "cell_type": "code",
     "collapsed": false,
     "input": [
      "ufo = pd.read_table(outpath, sep='\\t',\n",
      "                    na_values='', header = None,\n",
      "                    names=['date_occurred', 'date_reported',\n",
      "                           'location', 'short_desc', 'duration',\n",
      "                           'long_desc'])\n",
      "# print ufo.head(6).to_string(formatters={'long_desc': lambda x : x[:20]})"
     ],
     "language": "python",
     "metadata": {},
     "outputs": [],
     "prompt_number": 6
    },
    {
     "cell_type": "heading",
     "level": 1,
     "metadata": {},
     "source": [
      "Chapter 1 P-2 UFO Mapping and Subsetting"
     ]
    },
    {
     "cell_type": "code",
     "collapsed": false,
     "input": [
      "def ymd_convert(x):\n",
      "    try:\n",
      "        cnv_dt = dt.datetime.strptime(str(x), '%Y%m%d')\n",
      "    except ValueError:\n",
      "        cnv_dt = np.nan\n",
      "    return cnv_dt"
     ],
     "language": "python",
     "metadata": {},
     "outputs": [],
     "prompt_number": 7
    },
    {
     "cell_type": "code",
     "collapsed": false,
     "input": [
      "ufo['date_occurred'] = ufo['date_occurred'].map(ymd_convert)\n",
      "ufo['date_reported'] = ufo['date_reported'].map(ymd_convert)\n",
      "# print ufo.head(10)"
     ],
     "language": "python",
     "metadata": {},
     "outputs": [],
     "prompt_number": 8
    },
    {
     "cell_type": "code",
     "collapsed": false,
     "input": [
      "ufo = ufo[(pd.notnull(ufo['date_reported'])) & (pd.notnull(ufo['date_occurred']))]\n",
      "# print ufo.tail(10)"
     ],
     "language": "python",
     "metadata": {},
     "outputs": [],
     "prompt_number": 9
    },
    {
     "cell_type": "code",
     "collapsed": false,
     "input": [
      "def get_location(l):\n",
      "    split_location = l.split(',')\n",
      "    clean_location = [x.strip() for x in split_location]\n",
      "    if len(split_location) != 2:\n",
      "        clean_location = ['','']\n",
      "    return clean_location"
     ],
     "language": "python",
     "metadata": {},
     "outputs": [],
     "prompt_number": 10
    },
    {
     "cell_type": "code",
     "collapsed": false,
     "input": [
      "multi_commas = ufo['location'].map(lambda x : x.count(',') > 1)\n",
      "print 'Number of entries w/ multiple commas', sum(multi_commas)\n",
      "print ufo['location'][multi_commas][:10]"
     ],
     "language": "python",
     "metadata": {},
     "outputs": [
      {
       "output_type": "stream",
       "stream": "stdout",
       "text": [
        "Number of entries w/ multiple commas "
       ]
      },
      {
       "output_type": "stream",
       "stream": "stdout",
       "text": [
        "1055\n",
        "865       Cuenca (Eof, in the high Andes Mts)  (Ecuador),\n",
        "896      Coober Pedy, S.A. (Approx. 250km south of) (A...\n",
        "906      Las Vegas (60-70 miles north-east of, Interst...\n",
        "923                       Alice Springs  (NT, Australia),\n",
        "931                     Worsley, Manchester (UK/England),\n",
        "951               Fresno/Stockton (from, to Stockton), CA\n",
        "1009                          Melbourne (VIC, Australia),\n",
        "1050     Sandals Royal Jamaican Resort, Montego Bay (J...\n",
        "1052           Ely (60 Miles south of, US Highway 93), NV\n",
        "1123         Thornton Cleveleys, Lancashire (UK/England),\n",
        "Name: location, dtype: object\n"
       ]
      }
     ],
     "prompt_number": 11
    },
    {
     "cell_type": "code",
     "collapsed": false,
     "input": [
      "us_state_pattern = re.compile(', [A-Z][A-Z]$', re.IGNORECASE)"
     ],
     "language": "python",
     "metadata": {},
     "outputs": [],
     "prompt_number": 12
    },
    {
     "cell_type": "code",
     "collapsed": false,
     "input": [
      "def get_location2(l):\n",
      "    strip_location = l.strip()\n",
      "    us_state_search = us_state_pattern.search(strip_location)\n",
      "    if us_state_search == None:\n",
      "        clean_location = ['','']\n",
      "    else:\n",
      "        us_city = strip_location[:us_state_search.start()]\n",
      "        us_state = strip_location[us_state_search.start()+2:]\n",
      "        clean_location = [us_city, us_state]\n",
      "    return clean_location"
     ],
     "language": "python",
     "metadata": {},
     "outputs": [],
     "prompt_number": 13
    },
    {
     "cell_type": "code",
     "collapsed": false,
     "input": [
      "location_lists = ufo['location'].map(get_location2)"
     ],
     "language": "python",
     "metadata": {},
     "outputs": [],
     "prompt_number": 14
    },
    {
     "cell_type": "code",
     "collapsed": false,
     "input": [
      "ufo['us_city'] = [city for city, st in location_lists]\n",
      "ufo['us_state'] = [st.lower() for city, st in location_lists]\n",
      "ufo = ufo[(pd.notnull(ufo['us_city'])) & (pd.notnull(ufo['us_state']))]\n",
      "# print ufo.head(5)"
     ],
     "language": "python",
     "metadata": {},
     "outputs": [],
     "prompt_number": 15
    },
    {
     "cell_type": "code",
     "collapsed": false,
     "input": [
      "us_states = ['ak', 'al', 'ar', 'az', 'ca', 'co', 'ct', 'dc', 'de', 'fl',\n",
      "             'ga', 'hi', 'ia', 'id', 'il', 'in', 'ks', 'ky', 'la', 'ma',\n",
      "             'md', 'me', 'mi', 'mn', 'mo', 'ms', 'mt', 'nc', 'nd', 'ne',\n",
      "             'nh', 'nj', 'nm', 'nv', 'ny', 'oh', 'ok', 'or', 'pa', 'ri',\n",
      "             'sc', 'sd', 'tn', 'tx', 'ut', 'va', 'vt', 'wa', 'wi', 'wv',\n",
      "             'wy']"
     ],
     "language": "python",
     "metadata": {},
     "outputs": [],
     "prompt_number": 16
    },
    {
     "cell_type": "code",
     "collapsed": false,
     "input": [
      "# If the `us_state` variable doesn't match the states in the list, set it to\n",
      "# a missing string. Then nix the rows without valid U.S. states.\n",
      "ufo['us_state'][-np.in1d(ufo['us_state'].tolist(), us_states)] = ''\n",
      "ufo['us_city'][-np.in1d(ufo['us_state'].tolist(), us_states)] = ''\n",
      "\n",
      "ufo_us = ufo[ufo['us_state'] != '']"
     ],
     "language": "python",
     "metadata": {},
     "outputs": [],
     "prompt_number": 17
    },
    {
     "cell_type": "heading",
     "level": 1,
     "metadata": {},
     "source": [
      "Chapter 1 P-3 UFO Simple Summaries and Plots"
     ]
    },
    {
     "cell_type": "code",
     "collapsed": false,
     "input": [
      "years = ufo['date_occurred'].map(lambda x : x.year)\n",
      "print years.describe()\n",
      "print type(years)"
     ],
     "language": "python",
     "metadata": {},
     "outputs": [
      {
       "output_type": "stream",
       "stream": "stdout",
       "text": [
        "count    61135.000000\n",
        "mean      2000.596254\n",
        "std         10.818081\n",
        "min       1400.000000\n",
        "25%       1999.000000\n",
        "50%       2003.000000\n",
        "75%       2007.000000\n",
        "max       2010.000000\n",
        "dtype: float64\n",
        "<class 'pandas.core.series.Series'>\n"
       ]
      }
     ],
     "prompt_number": 18
    },
    {
     "cell_type": "code",
     "collapsed": false,
     "input": [
      "ufo_post90 = ufo[ufo['date_occurred'] >= dt.datetime(1990,1,1)]\n",
      "years_post90 = ufo_post90['date_occurred'].map(lambda x: x.year)\n",
      "plt.figure()\n",
      "years_post90.hist(bins = 20, fc = 'steelblue')\n",
      "plt.title('Histogram of years with U.S. UFO sightings\\nAll years in data')\n",
      "plt.savefig('quick_hist_post90.png')"
     ],
     "language": "python",
     "metadata": {},
     "outputs": [
      {
       "metadata": {},
       "output_type": "display_data",
       "png": "[encoded data removed]",
       "text": [
        "<matplotlib.figure.Figure at 0x10b461fd0>"
       ]
      }
     ],
     "prompt_number": 19
    },
    {
     "cell_type": "code",
     "collapsed": false,
     "input": [
      "post90_count = ufo_post90.groupby('date_occurred')['date_occurred'].count()\n",
      "# print post90_count\n",
      "plt.figure()\n",
      "post90_count.plot()\n",
      "plt.title('Number of US UFO sightings\\n1990 through 2010')"
     ],
     "language": "python",
     "metadata": {},
     "outputs": [
      {
       "metadata": {},
       "output_type": "pyout",
       "prompt_number": 20,
       "text": [
        "<matplotlib.text.Text at 0x10c295c50>"
       ]
      },
      {
       "metadata": {},
       "output_type": "display_data",
       "png": "[encoded data removed]",
       "text": [
        "<matplotlib.figure.Figure at 0x10c27ff50>"
       ]
      }
     ],
     "prompt_number": 20
    },
    {
     "cell_type": "heading",
     "level": 1,
     "metadata": {},
     "source": [
      "Chapter 1 P-4 UFO Data Aggregation and Reshaping"
     ]
    },
    {
     "cell_type": "code",
     "collapsed": false,
     "input": [
      "ufo_post90['year_month'] = ufo_post90['date_occurred'].map(lambda x : dt.date(x.year, x.month, 1))\n",
      "# print ufo_post90['year_month'].head(10)"
     ],
     "language": "python",
     "metadata": {},
     "outputs": [],
     "prompt_number": 21
    },
    {
     "cell_type": "code",
     "collapsed": false,
     "input": [
      "sightings_count = ufo_post90.groupby(['us_state', 'year_month'])['year_month'].count()\n",
      "print type(sightings_count)\n",
      "print sightings_count"
     ],
     "language": "python",
     "metadata": {},
     "outputs": [
      {
       "output_type": "stream",
       "stream": "stdout",
       "text": [
        "<class 'pandas.core.series.Series'>\n",
        "us_state  year_month\n",
        "          1990-01-01    6\n",
        "          1990-02-01    4\n",
        "          1990-03-01    2\n",
        "          1990-04-01    2\n",
        "          1990-05-01    1\n",
        "          1990-06-01    8\n",
        "          1990-07-01    8\n",
        "          1990-08-01    7\n",
        "          1990-09-01    3\n",
        "          1990-10-01    4\n",
        "          1990-11-01    5\n",
        "          1990-12-01    4\n",
        "          1991-01-01    4\n",
        "          1991-02-01    2\n",
        "          1991-03-01    4\n",
        "...\n",
        "wy        2008-02-01    1\n",
        "          2008-04-01    1\n",
        "          2008-07-01    1\n",
        "          2008-08-01    2\n",
        "          2008-09-01    1\n",
        "          2008-10-01    5\n",
        "          2008-12-01    1\n",
        "          2009-02-01    1\n",
        "          2009-06-01    1\n",
        "          2009-07-01    2\n",
        "          2009-09-01    1\n",
        "          2010-04-01    4\n",
        "          2010-06-01    1\n",
        "          2010-07-01    1\n",
        "          2010-08-01    2\n",
        "Name: year_month, Length: 8684, dtype: int64\n"
       ]
      }
     ],
     "prompt_number": 23
    },
    {
     "cell_type": "code",
     "collapsed": false,
     "input": [
      "print 'First few AK sightings in data:'\n",
      "print sightings_count.ix['ak'].head()"
     ],
     "language": "python",
     "metadata": {},
     "outputs": [
      {
       "output_type": "stream",
       "stream": "stdout",
       "text": [
        "First few AK sightings in data:\n",
        "year_month\n",
        "1990-01-01    1\n",
        "1990-03-01    1\n",
        "1990-05-01    1\n",
        "1993-11-01    1\n",
        "1994-02-01    1\n",
        "Name: year_month, dtype: int64\n"
       ]
      }
     ],
     "prompt_number": 23
    },
    {
     "cell_type": "code",
     "collapsed": false,
     "input": [
      "print ufo_post90['year_month'].min()"
     ],
     "language": "python",
     "metadata": {},
     "outputs": [
      {
       "output_type": "stream",
       "stream": "stdout",
       "text": [
        "1990-01-01\n"
       ]
      }
     ],
     "prompt_number": 24
    },
    {
     "cell_type": "code",
     "collapsed": false,
     "input": [
      "# ym_list = [dt.date(y, m, 1) for y in range(1990, 2011)\n",
      "#                             for m in range(1, 13)\n",
      "#                             if dt.date(y, m, 1) <= dt.date(2010, 8, 1)]\n",
      "# print type(ym_list)"
     ],
     "language": "python",
     "metadata": {},
     "outputs": [],
     "prompt_number": 25
    },
    {
     "cell_type": "code",
     "collapsed": false,
     "input": [
      "sightings_counts = ufo_post90.groupby(['us_state', 'year_month'])['year_month'].count()\n",
      "\n",
      "sightings_counts = sightings_counts.unstack(1).fillna(0).stack()"
     ],
     "language": "python",
     "metadata": {},
     "outputs": [],
     "prompt_number": 26
    },
    {
     "cell_type": "heading",
     "level": 1,
     "metadata": {},
     "source": [
      "Chapter 1 P-5 UFO Trellis Graphs"
     ]
    },
    {
     "cell_type": "code",
     "collapsed": false,
     "input": [
      "# Subplot parameters. We set up a figures with MxN subplots, where MxN >= 51\n",
      "# (no. of states to plot). When MxN > 51, the `hangover` variable counts how\n",
      "# many extra subplot remain in the last row of figure. We'll need this to\n",
      "# to put tick labels in nice places.\n",
      "nrow = 13; ncol = 4; hangover = len(us_states) % ncol\n",
      "\n",
      "fig, axes = plt.subplots(nrow, ncol, sharey = True, figsize = (9, 11))\n",
      "\n",
      "fig.suptitle('Monthly UFO Sightings by U.S. State\\nJanuary 1990 through August 2010',\n",
      "             size = 12)\n",
      "plt.subplots_adjust(wspace = .05, hspace = .05)\n",
      "\n",
      "num_state = 0\n",
      "for i in range(nrow):\n",
      "    for j in range(ncol):\n",
      "        xs = axes[i, j]\n",
      "\n",
      "        xs.grid(linestyle = '-', linewidth = .25, color = 'gray')\n",
      "\n",
      "        if num_state < 51:\n",
      "            st = us_states[num_state]\n",
      "            sightings_counts.ix[st, ].plot(ax = xs, linewidth = .75)\n",
      "            xs.text(0.05, .95, st.upper(), transform = axes[i, j].transAxes, \n",
      "                    verticalalignment = 'top')\n",
      "            num_state += 1 \n",
      "        else:\n",
      "            # Make extra subplots invisible\n",
      "            plt.setp(xs, visible = False)\n",
      "            \n",
      "        xtl = xs.get_xticklabels()\n",
      "        ytl = xs.get_yticklabels()\n",
      "\n",
      "        # X-axis tick labels:\n",
      "        # Turn off tick labels for all the the bottom-most\n",
      "        # subplots. This includes the plots on the last row, and\n",
      "        # if the last row doesn't have a subplot in every column\n",
      "        # put tick labels on the next row up for those last\n",
      "        # columns.\n",
      "        #\n",
      "        # Y-axis tick labels:\n",
      "        # Put left-axis labels on the first column of subplots,\n",
      "        # odd rows. Put right-axis labels on the last column\n",
      "        # of subplots, even rows.\n",
      "        if i < nrow - 2 or (i < nrow - 1 and (hangover == 0 or\n",
      "                            j <= hangover - 1)):\n",
      "            plt.setp(xtl, visible = False)\n",
      "        if j > 0 or i % 2 == 1:\n",
      "            plt.setp(ytl, visible = False)\n",
      "        if j == ncol - 1 and i % 2 == 1:\n",
      "            xs.yaxis.tick_right()\n",
      "          \n",
      "        plt.setp(xtl, rotation=90.) \n",
      "    plt.savefig('ufo_ts_bystate.png', dpi = 300)"
     ],
     "language": "python",
     "metadata": {},
     "outputs": [
      {
       "ename": "NameError",
       "evalue": "name 'sightings_count1' is not defined",
       "output_type": "pyerr",
       "traceback": [
        "\u001b[0;31m---------------------------------------------------------------------------\u001b[0m\n\u001b[0;31mNameError\u001b[0m                                 Traceback (most recent call last)",
        "\u001b[0;32m<ipython-input-27-4f572ff2c2c1>\u001b[0m in \u001b[0;36m<module>\u001b[0;34m()\u001b[0m\n\u001b[1;32m     20\u001b[0m         \u001b[0;32mif\u001b[0m \u001b[0mnum_state\u001b[0m \u001b[0;34m<\u001b[0m \u001b[0;36m51\u001b[0m\u001b[0;34m:\u001b[0m\u001b[0;34m\u001b[0m\u001b[0m\n\u001b[1;32m     21\u001b[0m             \u001b[0mst\u001b[0m \u001b[0;34m=\u001b[0m \u001b[0mus_states\u001b[0m\u001b[0;34m[\u001b[0m\u001b[0mnum_state\u001b[0m\u001b[0;34m]\u001b[0m\u001b[0;34m\u001b[0m\u001b[0m\n\u001b[0;32m---> 22\u001b[0;31m             \u001b[0msightings_count1\u001b[0m\u001b[0;34m.\u001b[0m\u001b[0mix\u001b[0m\u001b[0;34m[\u001b[0m\u001b[0mst\u001b[0m\u001b[0;34m,\u001b[0m \u001b[0;34m]\u001b[0m\u001b[0;34m.\u001b[0m\u001b[0mplot\u001b[0m\u001b[0;34m(\u001b[0m\u001b[0max\u001b[0m \u001b[0;34m=\u001b[0m \u001b[0mxs\u001b[0m\u001b[0;34m,\u001b[0m \u001b[0mlinewidth\u001b[0m \u001b[0;34m=\u001b[0m \u001b[0;36m.75\u001b[0m\u001b[0;34m)\u001b[0m\u001b[0;34m\u001b[0m\u001b[0m\n\u001b[0m\u001b[1;32m     23\u001b[0m             xs.text(0.05, .95, st.upper(), transform = axes[i, j].transAxes, \n\u001b[1;32m     24\u001b[0m                     verticalalignment = 'top')\n",
        "\u001b[0;31mNameError\u001b[0m: name 'sightings_count1' is not defined"
       ]
      },
      {
       "metadata": {},
       "output_type": "display_data",
       "png": "[encoded data removed]",
       "text": [
        "<matplotlib.figure.Figure at 0x116412610>"
       ]
      }
     ],
     "prompt_number": 27
    },
    {
     "cell_type": "code",
     "collapsed": false,
     "input": [
      "# sightings_counts_re = sightings_counts.reindex(columns=['us_state', 'year_month', 'count'])\n",
      "df = pd.DataFrame(sightings_counts_re, columns=['count']).reset_index()\n",
      "print df.head()"
     ],
     "language": "python",
     "metadata": {},
     "outputs": [
      {
       "output_type": "stream",
       "stream": "stdout",
       "text": [
        "  us_state  year_month  count\n",
        "0           1990-01-01      6\n",
        "1           1990-02-01      4\n",
        "2           1990-03-01      2\n",
        "3           1990-04-01      2\n",
        "4           1990-05-01      1\n",
        "5           1990-06-01      8\n",
        "6           1990-07-01      8\n",
        "7           1990-08-01      7\n",
        "8           1990-09-01      3\n",
        "9           1990-10-01      4\n"
       ]
      }
     ],
     "prompt_number": 37
    },
    {
     "cell_type": "code",
     "collapsed": false,
     "input": [
      "plt.figure()\n",
      "plot = rplot.RPlot(df, x='year_month', y='count')\n",
      "plot.add(rplot.TrellisGrid(['us_state', 'year_month']))\n",
      "plot.add(rplot.GeomHistogram())\n",
      "plot.render(plt.gcf())"
     ],
     "language": "python",
     "metadata": {},
     "outputs": []
    },
    {
     "cell_type": "code",
     "collapsed": false,
     "input": [],
     "language": "python",
     "metadata": {},
     "outputs": []
    },
    {
     "cell_type": "code",
     "collapsed": false,
     "input": [],
     "language": "python",
     "metadata": {},
     "outputs": []
    }
   ],
   "metadata": {}
  }
 ]
}