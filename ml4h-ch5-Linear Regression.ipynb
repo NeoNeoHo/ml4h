{
 "metadata": {
  "name": ""
 },
 "nbformat": 3,
 "nbformat_minor": 0,
 "worksheets": [
  {
   "cells": [
    {
     "cell_type": "code",
     "collapsed": false,
     "input": [
      "%pylab inline"
     ],
     "language": "python",
     "metadata": {},
     "outputs": [
      {
       "output_type": "stream",
       "stream": "stdout",
       "text": [
        "Populating the interactive namespace from numpy and matplotlib\n"
       ]
      },
      {
       "output_type": "stream",
       "stream": "stderr",
       "text": [
        "WARNING: pylab import has clobbered these variables: ['datetime', 'save', 'load', 'unique', 'info']\n",
        "`%pylab --no-import-all` prevents importing * from pylab and numpy\n"
       ]
      }
     ],
     "prompt_number": 7
    },
    {
     "cell_type": "code",
     "collapsed": false,
     "input": [
      "import os\n",
      "import numpy as np\n",
      "import statsmodels as sm\n",
      "import matplotlib.pyplot as plt\n",
      "from pandas import *\n",
      "from statsmodels.formula.api import ols\n",
      "import seaborn\n",
      "# formula.api lets us use patsy formulas."
     ],
     "language": "python",
     "metadata": {},
     "outputs": [],
     "prompt_number": 51
    },
    {
     "cell_type": "code",
     "collapsed": false,
     "input": [
      "heights_weights = read_csv('data_set/01_heights_weights_genders.csv')\n",
      "print heights_weights[:5]"
     ],
     "language": "python",
     "metadata": {},
     "outputs": [
      {
       "output_type": "stream",
       "stream": "stdout",
       "text": [
        "  Gender     Height      Weight\n",
        "0   Male  73.847017  241.893563\n",
        "1   Male  68.781904  162.310473\n",
        "2   Male  74.110105  212.740856\n",
        "3   Male  71.730978  220.042470\n",
        "4   Male  69.881796  206.349801\n"
       ]
      }
     ],
     "prompt_number": 9
    },
    {
     "cell_type": "heading",
     "level": 2,
     "metadata": {},
     "source": [
      "Weight vs. Height Regression"
     ]
    },
    {
     "cell_type": "markdown",
     "metadata": {},
     "source": [
      "Using patsy formulas"
     ]
    },
    {
     "cell_type": "code",
     "collapsed": false,
     "input": [
      "fit_reg = ols(formula = 'Weight ~ Height', data = heights_weights).fit()\n",
      "print fit_reg.summary()"
     ],
     "language": "python",
     "metadata": {},
     "outputs": [
      {
       "output_type": "stream",
       "stream": "stdout",
       "text": [
        "                            OLS Regression Results                            \n",
        "==============================================================================\n",
        "Dep. Variable:                 Weight   R-squared:                       0.855\n",
        "Model:                            OLS   Adj. R-squared:                  0.855\n",
        "Method:                 Least Squares   F-statistic:                 5.904e+04\n",
        "Date:                Mon, 19 Jan 2015   Prob (F-statistic):               0.00\n",
        "Time:                        17:20:16   Log-Likelihood:                -39219.\n",
        "No. Observations:               10000   AIC:                         7.844e+04\n",
        "Df Residuals:                    9998   BIC:                         7.846e+04\n",
        "Df Model:                           1                                         \n",
        "Covariance Type:            nonrobust                                         \n",
        "==============================================================================\n",
        "                 coef    std err          t      P>|t|      [95.0% Conf. Int.]\n",
        "------------------------------------------------------------------------------\n",
        "Intercept   -350.7372      2.111   -166.109      0.000      -354.876  -346.598\n",
        "Height         7.7173      0.032    242.975      0.000         7.655     7.780\n",
        "==============================================================================\n",
        "Omnibus:                        2.141   Durbin-Watson:                   1.677\n",
        "Prob(Omnibus):                  0.343   Jarque-Bera (JB):                2.150\n",
        "Skew:                           0.036   Prob(JB):                        0.341\n",
        "Kurtosis:                       2.991   Cond. No.                     1.15e+03\n",
        "==============================================================================\n",
        "\n",
        "Warnings:\n",
        "[1] Standard Errors assume that the covariance matrix of the errors is correctly specified.\n",
        "[2] The condition number is large, 1.15e+03. This might indicate that there are\n",
        "strong multicollinearity or other numerical problems.\n"
       ]
      }
     ],
     "prompt_number": 13
    },
    {
     "cell_type": "code",
     "collapsed": false,
     "input": [
      "fit_reg_log = ols(formula = 'np.log(Weight) ~ np.log(Height)', data = heights_weights).fit()\n",
      "print fit_reg_log.summary()"
     ],
     "language": "python",
     "metadata": {},
     "outputs": [
      {
       "output_type": "stream",
       "stream": "stdout",
       "text": [
        "                            OLS Regression Results                            \n",
        "==============================================================================\n",
        "Dep. Variable:         np.log(Weight)   R-squared:                       0.848\n",
        "Model:                            OLS   Adj. R-squared:                  0.848\n",
        "Method:                 Least Squares   F-statistic:                 5.576e+04\n",
        "Date:                Mon, 19 Jan 2015   Prob (F-statistic):               0.00\n",
        "Time:                        17:24:47   Log-Likelihood:                 11038.\n",
        "No. Observations:               10000   AIC:                        -2.207e+04\n",
        "Df Residuals:                    9998   BIC:                        -2.206e+04\n",
        "Df Model:                           1                                         \n",
        "Covariance Type:            nonrobust                                         \n",
        "==================================================================================\n",
        "                     coef    std err          t      P>|t|      [95.0% Conf. Int.]\n",
        "----------------------------------------------------------------------------------\n",
        "Intercept         -8.6155      0.058   -148.708      0.000        -8.729    -8.502\n",
        "np.log(Height)     3.2619      0.014    236.129      0.000         3.235     3.289\n",
        "==============================================================================\n",
        "Omnibus:                       38.178   Durbin-Watson:                   1.713\n",
        "Prob(Omnibus):                  0.000   Jarque-Bera (JB):               42.749\n",
        "Skew:                          -0.105   Prob(JB):                     5.21e-10\n",
        "Kurtosis:                       3.241   Cond. No.                         320.\n",
        "==============================================================================\n",
        "\n",
        "Warnings:\n",
        "[1] Standard Errors assume that the covariance matrix of the errors is correctly specified.\n"
       ]
      }
     ],
     "prompt_number": 15
    },
    {
     "cell_type": "code",
     "collapsed": false,
     "input": [
      "pred_weight = fit_reg.predict()"
     ],
     "language": "python",
     "metadata": {},
     "outputs": [],
     "prompt_number": 16
    },
    {
     "cell_type": "code",
     "collapsed": false,
     "input": [
      "heights = heights_weights['Height']\n",
      "weights = heights_weights['Weight']\n",
      "plt.figure()\n",
      "heights_weights.plot(figsize=(8, 8), x='Height', y='Weight', kind='scatter', alpha = .2, color='purple')\n",
      "plt.plot(heights, pred_weight, color='black')"
     ],
     "language": "python",
     "metadata": {},
     "outputs": [],
     "prompt_number": 42
    },
    {
     "cell_type": "heading",
     "level": 2,
     "metadata": {},
     "source": [
      "Page View Modeling"
     ]
    },
    {
     "cell_type": "code",
     "collapsed": false,
     "input": [
      "top_1k_sites = read_csv('data_set/top_1000_sites.tsv', sep='\\t')\n",
      "print top_1k_sites.head(5)"
     ],
     "language": "python",
     "metadata": {},
     "outputs": [
      {
       "output_type": "stream",
       "stream": "stdout",
       "text": [
        "   Rank           Site                      Category  UniqueVisitors  Reach  \\\n",
        "0     1   facebook.com               Social Networks       880000000   47.2   \n",
        "1     2    youtube.com                  Online Video       800000000   42.7   \n",
        "2     3      yahoo.com                   Web Portals       660000000   35.3   \n",
        "3     4       live.com                Search Engines       550000000   29.3   \n",
        "4     5  wikipedia.org  Dictionaries & Encyclopedias       490000000   26.2   \n",
        "\n",
        "      PageViews HasAdvertising InEnglish  TLD  \n",
        "0  910000000000            Yes       Yes  com  \n",
        "1  100000000000            Yes       Yes  com  \n",
        "2   77000000000            Yes       Yes  com  \n",
        "3   36000000000            Yes       Yes  com  \n",
        "4    7000000000             No       Yes  org  \n"
       ]
      }
     ],
     "prompt_number": 43
    },
    {
     "cell_type": "code",
     "collapsed": false,
     "input": [
      "kde_model = sm.nonparametric.kde.KDEUnivariate(np.log(top_1k_sites['PageViews']))\n",
      "kde_model.fit()\n",
      "plt.plot(kde_model.support, kde_model.density)\n",
      "plt.xlabel('Page Views (log)')"
     ],
     "language": "python",
     "metadata": {},
     "outputs": [
      {
       "metadata": {},
       "output_type": "pyout",
       "prompt_number": 58,
       "text": [
        "<matplotlib.text.Text at 0x7fdefafe0190>"
       ]
      },
      {
       "metadata": {},
       "output_type": "display_data",
       "png": "[encoded data removed]",
       "text": [
        "<matplotlib.figure.Figure at 0x7fdefaf2b350>"
       ]
      }
     ],
     "prompt_number": 58
    },
    {
     "cell_type": "code",
     "collapsed": false,
     "input": [],
     "language": "python",
     "metadata": {},
     "outputs": []
    }
   ],
   "metadata": {}
  }
 ]
}