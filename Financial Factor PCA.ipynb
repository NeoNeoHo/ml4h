{
 "metadata": {
  "name": ""
 },
 "nbformat": 3,
 "nbformat_minor": 0,
 "worksheets": [
  {
   "cells": [
    {
     "cell_type": "code",
     "collapsed": false,
     "input": [
      "import matplotlib.pylab as plt\n",
      "from sklearn.decomposition import PCA\n",
      "from sklearn.lda import LDA\n",
      "from PG_mosql import pg86_dao\n",
      "import pandas as pd\n",
      "%matplotlib inline"
     ],
     "language": "python",
     "metadata": {},
     "outputs": [],
     "prompt_number": 26
    },
    {
     "cell_type": "code",
     "collapsed": false,
     "input": [
      "obj = pg86_dao.get_dao('cn').select('financial_factors', \n",
      "                                    columns=['factor', 'da', 'code', 'rank'], \n",
      "                                    where={'da <': '2012-01-01'})"
     ],
     "language": "python",
     "metadata": {},
     "outputs": [],
     "prompt_number": 32
    },
    {
     "cell_type": "code",
     "collapsed": false,
     "input": [
      "df_long = pd.DataFrame(obj, columns=['factor', 'da', 'code', 'rank']).set_index([ 'factor', 'code', 'da'])\n",
      "df_pivot = df_long.unstack('factor')\n",
      "df_pivot.dropna(inplace=True)\n",
      "print df_pivot"
     ],
     "language": "python",
     "metadata": {},
     "outputs": [
      {
       "output_type": "stream",
       "stream": "stdout",
       "text": [
        "Empty DataFrame\n",
        "Columns: [(rank, ALL_BOOK_VAL_PER_SH), (rank, ALL_BS_TOT_ASSET), (rank, ALL_CASH_RATIO), (rank, ALL_CASH_ST_INVESTMENTS_PER_SH), (rank, ALL_CUR_MKT_CAP), (rank, ALL_CUR_RATIO), (rank, ALL_EPS_GROWTH), (rank, ALL_FNCL_LVRG), (rank, ALL_FREE_CASH_FLOW_PER_SH), (rank, ALL_IS_EARN_BEF_XO_ITEMS_PER_SH), (rank, ALL_PE_RATIO), (rank, ALL_PX_TO_BOOK_RATIO), (rank, ALL_REL_PE_RATIO), (rank, ALL_RETURN_COM_EQY), (rank, ALL_RETURN_ON_ASSET), (rank, ALL_SALES_GROWTH), (rank, ALL_SALES_TO_TOT_ASSET), (rank, ALL_TOT_LIAB_TO_TOT_LIAB_AND_EQY), (rank, ALL_TRAIL_12M_EPS_BEF_XO_ITEM), (rank, ALL_TRAIL_12M_NET_INC), (rank, ALL_pca_mix_epsg_pb_roa_roe_sg), (rank, IDX_BOOK_VAL_PER_SH), (rank, IDX_BS_TOT_ASSET), (rank, IDX_CASH_RATIO), (rank, IDX_CASH_ST_INVESTMENTS_PER_SH), (rank, IDX_CUR_MKT_CAP), (rank, IDX_CUR_RATIO), (rank, IDX_EBITDA), (rank, IDX_EPS_GROWTH), (rank, IDX_EV_TO_T12M_EBITDA), (rank, IDX_FNCL_LVRG), (rank, IDX_FREE_CASH_FLOW_PER_SH), (rank, IDX_IS_EARN_BEF_XO_ITEMS_PER_SH), (rank, IDX_PE_RATIO), (rank, IDX_PX_TO_BOOK_RATIO), (rank, IDX_REL_PE_RATIO), (rank, IDX_RETURN_COM_EQY), (rank, IDX_RETURN_ON_ASSET), (rank, IDX_SALES_GROWTH), (rank, IDX_SALES_TO_TOT_ASSET), (rank, IDX_TOT_LIAB_TO_TOT_LIAB_AND_EQY), (rank, IDX_TRAIL_12M_EPS_BEF_XO_ITEM), (rank, IDX_TRAIL_12M_NET_INC), (rank, IDX_pca_mix_epsg_pb_roa_roe_sg)]\n",
        "Index: []\n",
        "\n",
        "[0 rows x 44 columns]\n"
       ]
      }
     ],
     "prompt_number": 41
    },
    {
     "cell_type": "code",
     "collapsed": false,
     "input": [],
     "language": "python",
     "metadata": {},
     "outputs": []
    }
   ],
   "metadata": {}
  }
 ]
}