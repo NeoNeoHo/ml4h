{
 "metadata": {
  "name": "",
  "signature": "sha256:5c62211584aec7d70a8d3118fe221fd6a80cb2349b7deeac1d6c74428cdbab28"
 },
 "nbformat": 3,
 "nbformat_minor": 0,
 "worksheets": [
  {
   "cells": [
    {
     "cell_type": "code",
     "collapsed": false,
     "input": [
      "from pandas import *\n",
      "import numpy as np\n",
      "import os\n",
      "import re\n",
      "from nltk import NaiveBayesClassifier\n",
      "import nltk.classify\n",
      "from nltk.tokenize import wordpunct_tokenize\n",
      "from nltk.corpus import stopwords\n",
      "from collections import defaultdict"
     ],
     "language": "python",
     "metadata": {},
     "outputs": [],
     "prompt_number": 1
    },
    {
     "cell_type": "code",
     "collapsed": false,
     "input": [
      "data_path = os.path.abspath(os.path.join('.', 'data'))\n",
      "spam_path = os.path.join(data_path, 'spam')\n",
      "spam2_path = os.path.join(data_path, 'spam_2') \n",
      "easyham_path = os.path.join(data_path, 'easy_ham')\n",
      "easyham2_path = os.path.join(data_path, 'easy_ham_2')\n",
      "hardham_path = os.path.join(data_path, 'hard_ham')\n",
      "hardham2_path = os.path.join(data_path, 'hard_ham_2')"
     ],
     "language": "python",
     "metadata": {},
     "outputs": [],
     "prompt_number": 2
    },
    {
     "cell_type": "code",
     "collapsed": false,
     "input": [
      "def get_msgdir(path):\n",
      "    filelist = os.listdir(path)\n",
      "    filelist = filter(lambda x: x != 'cmds' and x != '.DS_Store', filelist)\n",
      "    all_msgs = [get_msg(os.path.join(path, f)) for f in filelist]\n",
      "    return all_msgs\n",
      "\n",
      "def get_msg(path):\n",
      "    with open(path, 'rU') as con:\n",
      "        msg = con.readlines()\n",
      "        first_blank_index = msg.index('\\n')\n",
      "        msg = msg[(first_blank_index + 1): ]\n",
      "        return ''.join(msg)"
     ],
     "language": "python",
     "metadata": {},
     "outputs": [],
     "prompt_number": 3
    },
    {
     "cell_type": "code",
     "collapsed": false,
     "input": [
      "train_spam_messages = get_msgdir(spam_path)\n",
      "train_easyham_messages = get_msgdir(easyham_path)\n",
      "train_easyham_messages = train_easyham_messages[:500]\n",
      "train_hardham_messages = get_msgdir(hardham_path)\n",
      "\n",
      "test_spam_messages    = get_msgdir(spam2_path)\n",
      "test_easyham_messages = get_msgdir(easyham2_path)\n",
      "test_hardham_messages = get_msgdir(hardham2_path)"
     ],
     "language": "python",
     "metadata": {},
     "outputs": [],
     "prompt_number": 4
    },
    {
     "cell_type": "code",
     "collapsed": false,
     "input": [
      "def get_msg_words(msg, stopwords =[], strip_html = False):\n",
      "    if strip_html:\n",
      "        msg = re.sub('<(.|\\n)*?>', ' ', msg)\n",
      "        msg = re.sub('&\\w+;', ' ', msg)\n",
      "    msg = re.sub('_+', '_', msg)\n",
      "    msg_words = set(wordpunct_tokenize(msg.replace('=\\n', '').lower()))\n",
      "    msg_words = msg_words.difference(stopwords)\n",
      "    msg_words = [w for w in msg_words if re.search('[a-zA-Z]', w) and len(w) > 1]\n",
      "    \n",
      "    return msg_words"
     ],
     "language": "python",
     "metadata": {},
     "outputs": [],
     "prompt_number": 5
    },
    {
     "cell_type": "code",
     "collapsed": false,
     "input": [
      "sw = stopwords.words('english')\n",
      "sw.extend(['ll', 've'])"
     ],
     "language": "python",
     "metadata": {},
     "outputs": [],
     "prompt_number": 10
    },
    {
     "cell_type": "code",
     "collapsed": false,
     "input": [
      "def features_from_messages(messages, label, feature_extractor, **kwargs):\n",
      "    '''\n",
      "    Make a (features, label) tuple for each message in a list of a certain,\n",
      "    label of e-mails ('spam', 'ham') and return a list of these tuples.\n",
      "\n",
      "    Note every e-mail in 'messages' should have the same label.\n",
      "    '''\n",
      "    features_labels = []\n",
      "    for msg in messages:\n",
      "        features = feature_extractor(msg, **kwargs)\n",
      "        features_labels.append((features, label))\n",
      "    return features_labels\n",
      "\n",
      "def word_indicator(msg, **kwargs):\n",
      "    '''\n",
      "    Create a dictionary of entries {word: True} for every unique\n",
      "    word in a message.\n",
      "\n",
      "    Note **kwargs are options to the word-set creator,\n",
      "    get_msg_words().\n",
      "    '''\n",
      "    features = defaultdict(list)\n",
      "    msg_words = get_msg_words(msg, **kwargs)\n",
      "    for  w in msg_words:\n",
      "            features[w] = True\n",
      "    return features"
     ],
     "language": "python",
     "metadata": {},
     "outputs": [],
     "prompt_number": 11
    },
    {
     "cell_type": "code",
     "collapsed": false,
     "input": [
      "def make_train_test_sets(feature_extractor, **kwargs):\n",
      "    '''\n",
      "    Make (feature, label) lists for each of the training \n",
      "    and testing lists.\n",
      "    '''\n",
      "    train_spam = features_from_messages(train_spam_messages, 'spam', \n",
      "                                        feature_extractor, **kwargs)\n",
      "    train_ham = features_from_messages(train_easyham_messages, 'ham', \n",
      "                                       feature_extractor, **kwargs)\n",
      "    train_set = train_spam + train_ham\n",
      "\n",
      "    test_spam = features_from_messages(test_spam_messages, 'spam',\n",
      "                                       feature_extractor, **kwargs)\n",
      "\n",
      "    test_ham = features_from_messages(test_easyham_messages, 'ham',\n",
      "                                      feature_extractor, **kwargs)\n",
      "\n",
      "    test_hardham = features_from_messages(test_hardham_messages, 'ham',\n",
      "                                          feature_extractor, **kwargs)\n",
      "    \n",
      "    return train_set, test_spam, test_ham, test_hardham"
     ],
     "language": "python",
     "metadata": {},
     "outputs": [],
     "prompt_number": 12
    },
    {
     "cell_type": "code",
     "collapsed": false,
     "input": [
      "def check_classifier(feature_extractor, **kwargs):\n",
      "    '''\n",
      "    Train the classifier on the training spam and ham, then check its accuracy\n",
      "    on the test data, and show the classifier's most informative features.\n",
      "    '''\n",
      "    \n",
      "    # Make training and testing sets of (features, label) data\n",
      "    train_set, test_spam, test_ham, test_hardham = \\\n",
      "        make_train_test_sets(feature_extractor, **kwargs)\n",
      "    \n",
      "    # Train the classifier on the training set\n",
      "    classifier = NaiveBayesClassifier.train(train_set)\n",
      "    \n",
      "    # How accurate is the classifier on the test sets?\n",
      "    print ('Test Spam accuracy: {0:.2f}%'\n",
      "       .format(100 * nltk.classify.accuracy(classifier, test_spam)))\n",
      "    print ('Test Ham accuracy: {0:.2f}%'\n",
      "       .format(100 * nltk.classify.accuracy(classifier, test_ham)))\n",
      "    print ('Test Hard Ham accuracy: {0:.2f}%'\n",
      "       .format(100 * nltk.classify.accuracy(classifier, test_hardham)))\n",
      "\n",
      "    # Show the top 20 informative features\n",
      "    print classifier.show_most_informative_features(20)"
     ],
     "language": "python",
     "metadata": {},
     "outputs": [],
     "prompt_number": 13
    },
    {
     "cell_type": "code",
     "collapsed": false,
     "input": [
      "check_classifier(word_indicator, stopwords = sw, strip_html = True)"
     ],
     "language": "python",
     "metadata": {},
     "outputs": [
      {
       "output_type": "stream",
       "stream": "stdout",
       "text": [
        "Test Spam accuracy: 95.50%\n",
        "Test Ham accuracy: 98.71%"
       ]
      },
      {
       "output_type": "stream",
       "stream": "stdout",
       "text": [
        "\n",
        "Test Hard Ham accuracy: 60.40%"
       ]
      },
      {
       "output_type": "stream",
       "stream": "stdout",
       "text": [
        "\n",
        "Most Informative Features\n",
        "                     aug = True              ham : spam   =     47.7 : 1.0"
       ]
      },
      {
       "output_type": "stream",
       "stream": "stdout",
       "text": [
        "\n",
        "                    dvds = True              ham : spam   =     36.3 : 1.0\n",
        "                  groups = True              ham : spam   =     28.1 : 1.0\n",
        "                mailings = True             spam : ham    =     25.4 : 1.0\n",
        "                    fill = True             spam : ham    =     23.3 : 1.0\n",
        "               sincerely = True             spam : ham    =     23.0 : 1.0\n",
        "                valuable = True             spam : ham    =     23.0 : 1.0\n",
        "                    wish = True             spam : ham    =     22.1 : 1.0\n",
        "              guaranteed = True             spam : ham    =     21.8 : 1.0\n",
        "                mortgage = True             spam : ham    =     21.7 : 1.0\n",
        "                  lowest = True             spam : ham    =     21.0 : 1.0\n",
        "               insurance = True             spam : ham    =     20.6 : 1.0\n",
        "                 sponsor = True              ham : spam   =     20.3 : 1.0\n",
        "                     sir = True             spam : ham    =     20.3 : 1.0\n",
        "                     tue = True              ham : spam   =     19.7 : 1.0\n",
        "                  monday = True              ham : spam   =     19.7 : 1.0\n",
        "                   mails = True             spam : ham    =     19.0 : 1.0\n",
        "                  assist = True             spam : ham    =     19.0 : 1.0\n",
        "                  income = True             spam : ham    =     18.6 : 1.0\n",
        "            particularly = True              ham : spam   =     17.7 : 1.0\n",
        "None\n"
       ]
      }
     ],
     "prompt_number": 15
    },
    {
     "cell_type": "code",
     "collapsed": false,
     "input": [],
     "language": "python",
     "metadata": {},
     "outputs": []
    }
   ],
   "metadata": {}
  }
 ]
}